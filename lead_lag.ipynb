{
 "cells": [
  {
   "cell_type": "markdown",
   "metadata": {},
   "source": [
    "                        FINDING THE lEADING AND LAGGING PEAKS\n",
    "\n",
    "Approaches\n",
    "\n",
    "1) Clustering the Data Points\n",
    "2) Defining a box of relavent data and filter out unnecessary points"
   ]
  },
  {
   "cell_type": "markdown",
   "metadata": {},
   "source": [
    "THE BOX OF RELEVANCY\n",
    "\n",
    "How do we store this info? \n",
    "   \n",
    "1) (a, b) start and end indexes of the box\n",
    "2) Just store an array of larger peaks and itterate through them\n",
    "3) Start iterrating the dataframe rows and start a loop between two high points\n",
    "    \n",
    "    a) In this space, itteratively eliminate the noise from bottom up\n",
    "    \n",
    "    b) SO we are deleting the noise and accessing the length of the droplets"
   ]
  },
  {
   "cell_type": "markdown",
   "metadata": {},
   "source": [
    "To my understanding there are two main factors in deciding if a peak is the lowest peak (lagging/leading)\n",
    "\n",
    "1) How higher up it is in comparision to the other points? (prominance)\n",
    "\n",
    "2) How close is it to the next higher peak? (so we choose the last spike and not confuse it for the encapsulated ssc)\n",
    "\n",
    "3) Even though each droplet can change in size, we can still find a radius within which all the approximated lengths fall. Maybe turn this into a criteria for confirming the future itterations? Like a droplet range that upgrades while the algorithm goes through the dataset. That way, we can set a limit to how far this droplet radius can go."
   ]
  },
  {
   "cell_type": "markdown",
   "metadata": {},
   "source": [
    "CLUSTTERING THE DATA\n",
    "\n",
    "I have a diffirent use for clusterring:\n",
    "\n",
    "--> Between two higher peaks, if the data between them is clusterred, the specific peak signifying the end of the droplet will mostly be isolated. SO we can cluster up and the irrelevant data and delete it.\n",
    "\n",
    "Ideas : Using the Destiny Based Clusterring algorithm to classify the peaks?\n",
    "\n",
    "???? Do we need ML here ????"
   ]
  },
  {
   "cell_type": "code",
   "execution_count": 2,
   "metadata": {},
   "outputs": [
    {
     "data": {
      "text/html": [
       "<div>\n",
       "<style scoped>\n",
       "    .dataframe tbody tr th:only-of-type {\n",
       "        vertical-align: middle;\n",
       "    }\n",
       "\n",
       "    .dataframe tbody tr th {\n",
       "        vertical-align: top;\n",
       "    }\n",
       "\n",
       "    .dataframe thead th {\n",
       "        text-align: right;\n",
       "    }\n",
       "</style>\n",
       "<table border=\"1\" class=\"dataframe\">\n",
       "  <thead>\n",
       "    <tr style=\"text-align: right;\">\n",
       "      <th></th>\n",
       "      <th>index</th>\n",
       "      <th>Ssc</th>\n",
       "    </tr>\n",
       "  </thead>\n",
       "  <tbody>\n",
       "    <tr>\n",
       "      <th>0</th>\n",
       "      <td>0</td>\n",
       "      <td>42.0</td>\n",
       "    </tr>\n",
       "    <tr>\n",
       "      <th>1</th>\n",
       "      <td>1</td>\n",
       "      <td>37.0</td>\n",
       "    </tr>\n",
       "    <tr>\n",
       "      <th>2</th>\n",
       "      <td>2</td>\n",
       "      <td>41.0</td>\n",
       "    </tr>\n",
       "    <tr>\n",
       "      <th>3</th>\n",
       "      <td>3</td>\n",
       "      <td>36.0</td>\n",
       "    </tr>\n",
       "    <tr>\n",
       "      <th>4</th>\n",
       "      <td>4</td>\n",
       "      <td>43.0</td>\n",
       "    </tr>\n",
       "    <tr>\n",
       "      <th>...</th>\n",
       "      <td>...</td>\n",
       "      <td>...</td>\n",
       "    </tr>\n",
       "    <tr>\n",
       "      <th>19994</th>\n",
       "      <td>19994</td>\n",
       "      <td>37.0</td>\n",
       "    </tr>\n",
       "    <tr>\n",
       "      <th>19995</th>\n",
       "      <td>19995</td>\n",
       "      <td>39.0</td>\n",
       "    </tr>\n",
       "    <tr>\n",
       "      <th>19996</th>\n",
       "      <td>19996</td>\n",
       "      <td>30.0</td>\n",
       "    </tr>\n",
       "    <tr>\n",
       "      <th>19997</th>\n",
       "      <td>19997</td>\n",
       "      <td>19.0</td>\n",
       "    </tr>\n",
       "    <tr>\n",
       "      <th>19998</th>\n",
       "      <td>19998</td>\n",
       "      <td>45.0</td>\n",
       "    </tr>\n",
       "  </tbody>\n",
       "</table>\n",
       "<p>19999 rows × 2 columns</p>\n",
       "</div>"
      ],
      "text/plain": [
       "       index   Ssc\n",
       "0          0  42.0\n",
       "1          1  37.0\n",
       "2          2  41.0\n",
       "3          3  36.0\n",
       "4          4  43.0\n",
       "...      ...   ...\n",
       "19994  19994  37.0\n",
       "19995  19995  39.0\n",
       "19996  19996  30.0\n",
       "19997  19997  19.0\n",
       "19998  19998  45.0\n",
       "\n",
       "[19999 rows x 2 columns]"
      ]
     },
     "execution_count": 2,
     "metadata": {},
     "output_type": "execute_result"
    }
   ],
   "source": [
    "#Setting up the dataframe\n",
    "\n",
    "import pandas as pd\n",
    "import numpy as np\n",
    "from scipy import signal\n",
    "\n",
    "df = pd.read_csv(\"/home/sweedy/Desktop/MFA GUI/dg4 _half laser_final data.tsv\", sep='\\t', names=['none', 'Fl', 'Ssc']).iloc[:20000]\n",
    "#dropping off everything other than SSC\n",
    "df.drop('none', inplace=True, axis=1)\n",
    "df.drop('Fl', inplace=True, axis=1)\n",
    "df = df.dropna()\n",
    "#Set the index as columns\n",
    "df.reset_index(inplace=True)\n",
    "df['index'] = df.index\n",
    "\n",
    "df"
   ]
  }
 ],
 "metadata": {
  "kernelspec": {
   "display_name": "Python 3.7.6 ('base')",
   "language": "python",
   "name": "python3"
  },
  "language_info": {
   "codemirror_mode": {
    "name": "ipython",
    "version": 3
   },
   "file_extension": ".py",
   "mimetype": "text/x-python",
   "name": "python",
   "nbconvert_exporter": "python",
   "pygments_lexer": "ipython3",
   "version": "3.7.6"
  },
  "orig_nbformat": 4,
  "vscode": {
   "interpreter": {
    "hash": "5b508dad0e5f7a679cb783102e9a88654a62858a1b43cc552238c8d5c8285e90"
   }
  }
 },
 "nbformat": 4,
 "nbformat_minor": 2
}
